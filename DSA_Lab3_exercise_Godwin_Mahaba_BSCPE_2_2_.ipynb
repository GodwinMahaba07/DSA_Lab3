{
  "nbformat": 4,
  "nbformat_minor": 0,
  "metadata": {
    "colab": {
      "provenance": []
    },
    "kernelspec": {
      "name": "python3",
      "display_name": "Python 3"
    },
    "language_info": {
      "name": "python"
    }
  },
  "cells": [
    {
      "cell_type": "markdown",
      "source": [
        "Godwin Anton M. Mahaba\n",
        "\n",
        "BSCPE 2-2\n",
        "\n",
        "DSA\n",
        "\n",
        "# Object Oriented Programming\n",
        "## Laboratory Exercise\n",
        "Deadline: 11:59pm Oct 13, 2024\n",
        "\n",
        "upload you this file together with your answer, the filename should be DSA_Lab3_exercise<name_and_section>.ipynb"
      ],
      "metadata": {
        "id": "AX1nCAw_sjOJ"
      }
    },
    {
      "cell_type": "markdown",
      "source": [
        "## Lab exercise 1\n",
        "\n",
        "from a given list of integers, create a new list using comprehension that will compute the square of odd integer elements.\n",
        "\n",
        "sample calls\n",
        "\n",
        "[2,4,3] == [9]\n",
        "[0,0,1,1] == [1,1]\n"
      ],
      "metadata": {
        "id": "wIW4hM7Gfn4P"
      }
    },
    {
      "cell_type": "code",
      "source": [
        "\n",
        "def square_odd_numbers(numbers):\n",
        "\n",
        "  return [x**2 for x in numbers if x % 2 != 0]\n",
        "\n",
        "print(square_odd_numbers([2, 4, 3]))\n",
        "print(square_odd_numbers([0, 0, 1, 1]))\n"
      ],
      "metadata": {
        "id": "HY4oTaxZftsf"
      },
      "execution_count": null,
      "outputs": []
    },
    {
      "cell_type": "markdown",
      "source": [
        "## Lab exercise 2\n",
        "\n",
        "Using comprehension,create a new list of tuples from two given lists:\n",
        "\n",
        "### sample calls\n",
        "\n",
        "list1[1,2,3]\n",
        "list2[\"mark\",\"alice\",\"john]\n",
        "\n",
        "result: listOfTuple[(1,\"mark\"),(2,\"alice\"),(3,\"john\")]"
      ],
      "metadata": {
        "id": "eZ-9URnUgI0R"
      }
    },
    {
      "cell_type": "code",
      "source": [
        "def create_list_of_tuples(List1, List2):\n",
        "  return [(List1[i], List2[i]) for i in range(len(List1))]\n",
        "\n",
        "List1 = [1, 2, 3]\n",
        "List2 = [\"mark\", \"alice\", \"john\"]\n",
        "print(create_list_of_tuples(List1, List2))\n"
      ],
      "metadata": {
        "id": "icZlW9WfgXYI"
      },
      "execution_count": null,
      "outputs": []
    },
    {
      "cell_type": "markdown",
      "source": [
        "## Lab exercise 3\n",
        "### Provide a list comprehension that implementation for a function called vowelsToUpper with the following signature:\n",
        "\n",
        "method name : vowelsToUpper\n",
        "\n",
        "input argument : String\n",
        "\n",
        "return argument : String\n",
        "\n",
        "vowelsToUpper must return a version of its String argument with all its vowels changed to their uppercase forms. Nonvowel characters stay as is.\n",
        "\n",
        "### Sample Calls\n",
        "\n",
        "vowelsToUpper \"\" == \"\"\n",
        "\n",
        "vowelsToUpper \"Hello, world!\" == \"HEllO, wOrld!\"\n",
        "\n",
        "vowelsToUpper \"hello hi bye\" == \"hEllO hI byE\""
      ],
      "metadata": {
        "id": "eheISPpYhzhC"
      }
    },
    {
      "cell_type": "code",
      "source": [
        "from ctypes import c_char\n",
        "def vowelsToUpper(string):\n",
        "  vowels = \"aeiouAEIOU\"\n",
        "  return \"\".join([c.upper() if c in vowels else c for c in string])\n",
        "\n",
        "print(vowelsToUpper(\"\"))\n",
        "print(vowelsToUpper(\"Hello, world!\"))\n",
        "print(vowelsToUpper(\"hello hi bye\"))\n"
      ],
      "metadata": {
        "id": "fm1jjfB9h1rj"
      },
      "execution_count": null,
      "outputs": []
    }
  ]
}